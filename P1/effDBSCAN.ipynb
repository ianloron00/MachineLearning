{
 "cells": [
  {
   "cell_type": "code",
   "execution_count": 1,
   "id": "prostate-session",
   "metadata": {
    "colab": {
     "base_uri": "https://localhost:8080/"
    },
    "id": "prostate-session",
    "outputId": "815847bf-afdf-47af-e89b-e24276521ee8"
   },
   "outputs": [],
   "source": [
    "import numpy as np\n",
    "import time\n",
    "import pandas as pd \n",
    "import matplotlib.pyplot as plt\n",
    "import math \n",
    "import random\n",
    "import scipy.io as spio\n",
    "import collections\n",
    "from sklearn.model_selection import train_test_split\n",
    "\n",
    "columns = ['coluna 1', 'coluna 2']\n",
    "train = pd.read_csv(\"cluster.dat\", decimal=\".\", sep=' ', names=columns)\n",
    "eps = 0.005\n",
    "minpts = 10"
   ]
  },
  {
   "cell_type": "code",
   "execution_count": 2,
   "id": "integral-induction",
   "metadata": {
    "id": "integral-induction"
   },
   "outputs": [],
   "source": [
    "def normalize(data):\n",
    "  normData = data.copy()\n",
    "  for i in range(data.shape[1]):\n",
    "    normData.iloc[:,i] /= np.linalg.norm(data.iloc[:,i])\n",
    "  return normData"
   ]
  },
  {
   "cell_type": "code",
   "execution_count": 3,
   "metadata": {},
   "outputs": [],
   "source": [
    "def distance(i, j):\n",
    "    return np.linalg.norm(i - j)"
   ]
  },
  {
   "cell_type": "code",
   "execution_count": 4,
   "id": "juvenile-triple",
   "metadata": {
    "id": "juvenile-triple"
   },
   "outputs": [],
   "source": [
    "def ExpandClusters(data, points_labels, id_seed, neighbor_points, C, epsilon, min_pts, core_points):\n",
    "    # coloca o id do cluster no ponto atual\n",
    "    points_labels[id_seed] = C\n",
    "   \n",
    "    i = 0\n",
    "    while i < len(neighbor_points):        \n",
    "        next_position = neighbor_points[i]\n",
    "        if points_labels[next_position] == -1:\n",
    "           points_labels[next_position] = C\n",
    "        \n",
    "        # se o ponto vizinho ainda nao tinha cluster agora ele tem\n",
    "        elif points_labels[next_position] == 0:\n",
    "            points_labels[next_position] = C\n",
    "            \n",
    "            pn_neighbor = [i for i in range(len(data)) if np.linalg.norm(data[i,:]-data [next_position,:]) <= epsilon]\n",
    "            #se o ponto tem filhos, adiciona eles na fila \n",
    "            if len(pn_neighbor) > min_pts:\n",
    "                neighbor_points = neighbor_points + pn_neighbor\n",
    "                core_points.append(next_position) # = np.append(core_points, next_position,dtype = int)\n",
    "        i += 1\n",
    "    return core_points"
   ]
  },
  {
   "cell_type": "code",
   "execution_count": 5,
   "id": "conservative-richardson",
   "metadata": {
    "id": "conservative-richardson"
   },
   "outputs": [],
   "source": [
    "def effDBSCAN(data, epsilon, minP):\n",
    "  C = 0\n",
    "  point_label = np.zeros(len(data),dtype=int) \n",
    "  core_points = []\n",
    "  for p in range(len(data)):\n",
    "    if point_label[p] != 0: continue\n",
    "    current_point = data[p]\n",
    "    # armazena os pontos vizinhos ao ponto p.\n",
    "    neighbor_points = [i for i in range(len(data)) if np.linalg.norm(data[i,:]-current_point) <= epsilon]\n",
    "  \n",
    "    # o ponto nao tem vizinhos o suficiente\n",
    "    if len(neighbor_points) <= minP:\n",
    "      point_label[p] = -1\n",
    "    # tem vizinhos o suficiente para criar um novo clusters\n",
    "    else:\n",
    "      C += 1\n",
    "      core_points.append(p) # = np.append(core_points, p)\n",
    "      core_points = ExpandClusters(data, point_label, p, neighbor_points, C, epsilon, minP, core_points)\n",
    "\n",
    "  return point_label, core_points, C\n"
   ]
  },
  {
   "cell_type": "code",
   "execution_count": 6,
   "id": "engaged-australian",
   "metadata": {
    "id": "engaged-australian"
   },
   "outputs": [],
   "source": [
    "#Function to plot final result\n",
    "def plotRes(train, point_labels, main_title):\n",
    "  dicColors = {0:'black', 1:'orange', 2:'purple', 3:'red', 4:'blue', 5:'green', \n",
    "              6:'yellow', 7:'violet', 8:'brown'}    \n",
    "  label_color = [dicColors[c%9] for c in point_labels] \n",
    "  x_label = 'x axis'\n",
    "  y_label = 'y axis'\n",
    "  title = main_title \n",
    "  plt.figure(figsize=(15,15))\n",
    "  plt.scatter(train.iloc[:,0],train.iloc[:,1],c=label_color,alpha=0.3)\n",
    "  plt.suptitle(title, fontsize=20)\n",
    "  plt.suptitle(title, fontsize=20)  \n",
    "  plt.suptitle(title, fontsize=20)  \n",
    "  plt.savefig(title + '.png')\n",
    "  plt.show()"
   ]
  },
  {
   "cell_type": "code",
   "execution_count": 7,
   "id": "related-hacker",
   "metadata": {
    "id": "related-hacker"
   },
   "outputs": [],
   "source": [
    "def callPlot(train_data,pointlabel, main_title):\n",
    "  cl = len(pointlabel)\n",
    "  plotRes(train_data, pointlabel, main_title) \n",
    "  plt.show()\n",
    "  print('number of cluster found: ' + str(cl-1))\n",
    "  counter=collections.Counter(pointlabel)\n",
    "  print(counter)\n",
    "  outliers  = np.count_nonzero(pointlabel == 0)\n",
    "  print('number of outliers found: '+str(outliers) +'\\n')"
   ]
  },
  {
   "cell_type": "code",
   "execution_count": 8,
   "id": "cognitive-evening",
   "metadata": {
    "id": "cognitive-evening"
   },
   "outputs": [
    {
     "output_type": "stream",
     "name": "stdout",
     "text": [
      "Set epsilon (normalized radius) = 0.005, Min Points = 10\n",
      "--- 1.9561505317687988 seconds ---\n"
     ]
    }
   ],
   "source": [
    "# initialize complete DBSCAN\n",
    "print('Set epsilon (normalized radius) = ' +str(eps)+ ', Min Points = '+str(minpts))\n",
    "start_time = time.time()\n",
    "norm_train = normalize(train).to_numpy()\n",
    "point_labels, core_points, n_clusters = effDBSCAN(norm_train,eps,minpts)\n",
    "print(\"--- %s seconds ---\" % (time.time() - start_time))"
   ]
  },
  {
   "cell_type": "code",
   "execution_count": 13,
   "id": "committed-turner",
   "metadata": {},
   "outputs": [],
   "source": [
    "\n",
    "# Split and initialize training & validation & test data separately\n",
    "norm_training, norm_test = train_test_split(norm_train, test_size=0.1, random_state=22)\n",
    "# training and validation are alreapy in numpy.\n",
    "norm_training, norm_validation = train_test_split(norm_train, test_size=0.1, random_state=10)\n",
    "point_labels_train, core_points_train, n_clusters_train = effDBSCAN(norm_training,eps,minpts)"
   ]
  },
  {
   "cell_type": "code",
   "execution_count": 79,
   "id": "collect-portal",
   "metadata": {},
   "outputs": [
    {
     "output_type": "error",
     "ename": "AttributeError",
     "evalue": "'numpy.ndarray' object has no attribute 'iloc'",
     "traceback": [
      "\u001b[0;31m---------------------------------------------------------------------------\u001b[0m",
      "\u001b[0;31mAttributeError\u001b[0m                            Traceback (most recent call last)",
      "\u001b[0;32m<ipython-input-79-4ceb4458196f>\u001b[0m in \u001b[0;36m<module>\u001b[0;34m\u001b[0m\n\u001b[1;32m      1\u001b[0m \u001b[0;31m# callPlot(train,point_labels,\u001b[0m\u001b[0;34m\u001b[0m\u001b[0;34m\u001b[0m\u001b[0;34m\u001b[0m\u001b[0m\n\u001b[1;32m      2\u001b[0m \u001b[0;31m#      'TRIAL Clusters division applying method DBSCAN (epsilon ' +str(eps)+ ') - data from cluster.dat')\u001b[0m\u001b[0;34m\u001b[0m\u001b[0;34m\u001b[0m\u001b[0;34m\u001b[0m\u001b[0m\n\u001b[0;32m----> 3\u001b[0;31m callPlot(norm_training,point_labels_train,\n\u001b[0m\u001b[1;32m      4\u001b[0m      'Training Clusters division applying method DBSCAN (epsilon ' +str(eps)+ ') - data from cluster.dat')\n",
      "\u001b[0;32m<ipython-input-7-d19ca4cfd086>\u001b[0m in \u001b[0;36mcallPlot\u001b[0;34m(train_data, pointlabel, main_title)\u001b[0m\n\u001b[1;32m      1\u001b[0m \u001b[0;32mdef\u001b[0m \u001b[0mcallPlot\u001b[0m\u001b[0;34m(\u001b[0m\u001b[0mtrain_data\u001b[0m\u001b[0;34m,\u001b[0m\u001b[0mpointlabel\u001b[0m\u001b[0;34m,\u001b[0m \u001b[0mmain_title\u001b[0m\u001b[0;34m)\u001b[0m\u001b[0;34m:\u001b[0m\u001b[0;34m\u001b[0m\u001b[0;34m\u001b[0m\u001b[0m\n\u001b[1;32m      2\u001b[0m   \u001b[0mcl\u001b[0m \u001b[0;34m=\u001b[0m \u001b[0mlen\u001b[0m\u001b[0;34m(\u001b[0m\u001b[0mpointlabel\u001b[0m\u001b[0;34m)\u001b[0m\u001b[0;34m\u001b[0m\u001b[0;34m\u001b[0m\u001b[0m\n\u001b[0;32m----> 3\u001b[0;31m   \u001b[0mplotRes\u001b[0m\u001b[0;34m(\u001b[0m\u001b[0mtrain_data\u001b[0m\u001b[0;34m,\u001b[0m \u001b[0mpointlabel\u001b[0m\u001b[0;34m,\u001b[0m \u001b[0mmain_title\u001b[0m\u001b[0;34m)\u001b[0m\u001b[0;34m\u001b[0m\u001b[0;34m\u001b[0m\u001b[0m\n\u001b[0m\u001b[1;32m      4\u001b[0m   \u001b[0mplt\u001b[0m\u001b[0;34m.\u001b[0m\u001b[0mshow\u001b[0m\u001b[0;34m(\u001b[0m\u001b[0;34m)\u001b[0m\u001b[0;34m\u001b[0m\u001b[0;34m\u001b[0m\u001b[0m\n\u001b[1;32m      5\u001b[0m   \u001b[0mprint\u001b[0m\u001b[0;34m(\u001b[0m\u001b[0;34m'number of cluster found: '\u001b[0m \u001b[0;34m+\u001b[0m \u001b[0mstr\u001b[0m\u001b[0;34m(\u001b[0m\u001b[0mcl\u001b[0m\u001b[0;34m-\u001b[0m\u001b[0;36m1\u001b[0m\u001b[0;34m)\u001b[0m\u001b[0;34m)\u001b[0m\u001b[0;34m\u001b[0m\u001b[0;34m\u001b[0m\u001b[0m\n",
      "\u001b[0;32m<ipython-input-6-e058a81074d9>\u001b[0m in \u001b[0;36mplotRes\u001b[0;34m(train, point_labels, main_title)\u001b[0m\n\u001b[1;32m      8\u001b[0m   \u001b[0mtitle\u001b[0m \u001b[0;34m=\u001b[0m \u001b[0mmain_title\u001b[0m\u001b[0;34m\u001b[0m\u001b[0;34m\u001b[0m\u001b[0m\n\u001b[1;32m      9\u001b[0m   \u001b[0mplt\u001b[0m\u001b[0;34m.\u001b[0m\u001b[0mfigure\u001b[0m\u001b[0;34m(\u001b[0m\u001b[0mfigsize\u001b[0m\u001b[0;34m=\u001b[0m\u001b[0;34m(\u001b[0m\u001b[0;36m15\u001b[0m\u001b[0;34m,\u001b[0m\u001b[0;36m15\u001b[0m\u001b[0;34m)\u001b[0m\u001b[0;34m)\u001b[0m\u001b[0;34m\u001b[0m\u001b[0;34m\u001b[0m\u001b[0m\n\u001b[0;32m---> 10\u001b[0;31m   \u001b[0mplt\u001b[0m\u001b[0;34m.\u001b[0m\u001b[0mscatter\u001b[0m\u001b[0;34m(\u001b[0m\u001b[0mtrain\u001b[0m\u001b[0;34m.\u001b[0m\u001b[0miloc\u001b[0m\u001b[0;34m[\u001b[0m\u001b[0;34m:\u001b[0m\u001b[0;34m,\u001b[0m\u001b[0;36m0\u001b[0m\u001b[0;34m]\u001b[0m\u001b[0;34m,\u001b[0m\u001b[0mtrain\u001b[0m\u001b[0;34m.\u001b[0m\u001b[0miloc\u001b[0m\u001b[0;34m[\u001b[0m\u001b[0;34m:\u001b[0m\u001b[0;34m,\u001b[0m\u001b[0;36m1\u001b[0m\u001b[0;34m]\u001b[0m\u001b[0;34m,\u001b[0m\u001b[0mc\u001b[0m\u001b[0;34m=\u001b[0m\u001b[0mlabel_color\u001b[0m\u001b[0;34m,\u001b[0m\u001b[0malpha\u001b[0m\u001b[0;34m=\u001b[0m\u001b[0;36m0.3\u001b[0m\u001b[0;34m)\u001b[0m\u001b[0;34m\u001b[0m\u001b[0;34m\u001b[0m\u001b[0m\n\u001b[0m\u001b[1;32m     11\u001b[0m   \u001b[0mplt\u001b[0m\u001b[0;34m.\u001b[0m\u001b[0msuptitle\u001b[0m\u001b[0;34m(\u001b[0m\u001b[0mtitle\u001b[0m\u001b[0;34m,\u001b[0m \u001b[0mfontsize\u001b[0m\u001b[0;34m=\u001b[0m\u001b[0;36m20\u001b[0m\u001b[0;34m)\u001b[0m\u001b[0;34m\u001b[0m\u001b[0;34m\u001b[0m\u001b[0m\n\u001b[1;32m     12\u001b[0m   \u001b[0mplt\u001b[0m\u001b[0;34m.\u001b[0m\u001b[0msuptitle\u001b[0m\u001b[0;34m(\u001b[0m\u001b[0mtitle\u001b[0m\u001b[0;34m,\u001b[0m \u001b[0mfontsize\u001b[0m\u001b[0;34m=\u001b[0m\u001b[0;36m20\u001b[0m\u001b[0;34m)\u001b[0m\u001b[0;34m\u001b[0m\u001b[0;34m\u001b[0m\u001b[0m\n",
      "\u001b[0;31mAttributeError\u001b[0m: 'numpy.ndarray' object has no attribute 'iloc'"
     ]
    }
   ],
   "source": [
    "# callPlot(train,point_labels,\n",
    "#      'TRIAL Clusters division applying method DBSCAN (epsilon ' +str(eps)+ ') - data from cluster.dat')\n",
    "callPlot(norm_training,point_labels_train,\n",
    "     'Training Clusters division applying method DBSCAN (epsilon ' +str(eps)+ ') - data from cluster.dat')"
   ]
  },
  {
   "cell_type": "code",
   "execution_count": 24,
   "id": "better-metallic",
   "metadata": {},
   "outputs": [],
   "source": [
    "# checar depois: https://gist.github.com/AlexandreAbraham/5544803\n",
    "def find_clusters_and_centroids(norm_dataset, point_labels, n_clusters):\n",
    "    clusters = [[]]*(n_clusters+1)\n",
    "    for i in range(0,len(norm_dataset),50):    \n",
    "        # clusters[point_labels[0][i]] = np.append(clusters[point_labels[0][i]], i)\n",
    "        clusters[point_labels[i]] = np.append(clusters[point_labels[i]], i)\n",
    "    centroids = [[np.mean(norm_dataset[np.asarray(i).astype(int)], axis=0)] for i in clusters]\n",
    "    return clusters, centroids"
   ]
  },
  {
   "cell_type": "code",
   "execution_count": 44,
   "id": "animated-trinidad",
   "metadata": {},
   "outputs": [],
   "source": [
    "def dist_intra_clusters_index (norm_data, clusters, centroids, i):\n",
    "  B = [[abs(norm_data[round(clusters[i][j])] - centroids[i][0]) \n",
    "          for j in range(len(clusters[i]))]\n",
    "           ] # for i in range(len(clusters))]\n",
    "  return B\n",
    "\n",
    "# search for math.dist(p, q) later :)\n",
    "def dist_intra_clusters(norm_data, clusters, centroids):\n",
    "\n",
    "    centroids =np.asarray(centroids)\n",
    "    B = []\n",
    "    soma = 0\n",
    "    for i in range(len(clusters)):\n",
    "        for j in range(len(clusters[i])):\n",
    "            if not math.isnan(clusters[i][j]) and not math.isnan(centroids[i][0][0]): \n",
    "                soma += np.abs(norm_data[round(clusters[i][j])] - centroids[i][0])\n",
    "    B = soma  \n",
    "    return B\n",
    "  "
   ]
  },
  {
   "cell_type": "code",
   "execution_count": 22,
   "id": "framed-alberta",
   "metadata": {},
   "outputs": [],
   "source": [
    "def dist_centroids(centroids, c1, c2):\n",
    "    return abs(centroids[c1][0] - centroids[c2][0])\n",
    "\n",
    "def dist_inter_clusters(centroids):\n",
    "    A = []\n",
    "    centroids =np.asarray(centroids)\n",
    "    soma = 0 \n",
    "    for i in range(len(centroids)):\n",
    "        for j in range(i+1, len(centroids)):\n",
    "            if not math.isnan(centroids[i][0][0]) and not math.isnan(centroids[j][0][0]): \n",
    "                soma += np.abs(centroids[i][0] - centroids[j][0])\n",
    "    A = soma\n",
    "    return A "
   ]
  },
  {
   "cell_type": "code",
   "execution_count": 26,
   "metadata": {},
   "outputs": [
    {
     "output_type": "stream",
     "name": "stderr",
     "text": [
      "/home/ianloron00/.local/lib/python3.8/site-packages/numpy/core/fromnumeric.py:3419: RuntimeWarning: Mean of empty slice.\n  return _methods._mean(a, axis=axis, dtype=dtype,\n/home/ianloron00/.local/lib/python3.8/site-packages/numpy/core/_methods.py:180: RuntimeWarning: invalid value encountered in true_divide\n  ret = um.true_divide(\n"
     ]
    }
   ],
   "source": [
    "clusters, centroids = find_clusters_and_centroids (norm_training, point_labels_train, n_clusters_train)"
   ]
  },
  {
   "cell_type": "code",
   "execution_count": 60,
   "id": "worthy-giant",
   "metadata": {},
   "outputs": [],
   "source": [
    "def distance(V):\n",
    "    return math.sqrt(sum(v**2 for v in V))\n",
    "\n",
    "def calc_silhouette (norm_dataset, clusters, centroids):\n",
    "    a = distance (dist_inter_clusters(centroids))\n",
    "    b = distance (dist_intra_clusters(norm_dataset, clusters, centroids))\n",
    "    return (b - a)/max(a, b)\n",
    "    "
   ]
  },
  {
   "cell_type": "code",
   "execution_count": 64,
   "id": "unexpected-presentation",
   "metadata": {},
   "outputs": [],
   "source": [
    "def inertia(V):\n",
    "    return sum(v**2 for v in V)\n",
    "def calc_elbow(norm_dataset, clusters, centroids):\n",
    "    return inertia(dist_intra_clusters(norm_dataset, clusters, centroids))"
   ]
  },
  {
   "cell_type": "code",
   "execution_count": 75,
   "metadata": {},
   "outputs": [],
   "source": [
    "def elbow(data,epsilon=[0.0005, 0.001, 0.003, 0.005,0.007,0.01, 0.03, 0.05, 0.07],minpts=5):\n",
    "  somaDosQuadrados = []\n",
    "  for eps in epsilon:\n",
    "    point_labels_train, core_points_train, n_clusters_train = effDBSCAN(norm_training,eps,minpts)\n",
    "    clusters_train, centroids_train = find_clusters_and_centroids(norm_training, point_labels_train, n_clusters_train)\n",
    "    somaDosQuadrados.append(calc_elbow(norm_training, clusters_train, centroids_train))\n",
    "    callPlot(training,point_labels_train,\n",
    "            'Training Clusters division applying method DBSCAN (epsilon ' +str(eps)+ ') - data from cluster.dat')\n",
    "  plt.plot(epsilon, somaDosQuadrados, 'x-')\n",
    "  plt.xlabel('epsilon')\n",
    "  plt.ylabel('Soma dos quadrados')\n",
    "  plt.title('Elbow')\n",
    "  plt.show()"
   ]
  },
  {
   "cell_type": "code",
   "execution_count": 76,
   "metadata": {},
   "outputs": [
    {
     "output_type": "error",
     "ename": "AttributeError",
     "evalue": "'numpy.ndarray' object has no attribute 'iloc'",
     "traceback": [
      "\u001b[0;31m---------------------------------------------------------------------------\u001b[0m",
      "\u001b[0;31mAttributeError\u001b[0m                            Traceback (most recent call last)",
      "\u001b[0;32m<ipython-input-76-95cc52a62e59>\u001b[0m in \u001b[0;36m<module>\u001b[0;34m\u001b[0m\n\u001b[0;32m----> 1\u001b[0;31m \u001b[0melbow\u001b[0m\u001b[0;34m(\u001b[0m\u001b[0mnorm_training\u001b[0m\u001b[0;34m)\u001b[0m\u001b[0;34m\u001b[0m\u001b[0;34m\u001b[0m\u001b[0m\n\u001b[0m",
      "\u001b[0;32m<ipython-input-75-167d4b19429e>\u001b[0m in \u001b[0;36melbow\u001b[0;34m(data, epsilon, minpts)\u001b[0m\n\u001b[1;32m      5\u001b[0m     \u001b[0mclusters_train\u001b[0m\u001b[0;34m,\u001b[0m \u001b[0mcentroids_train\u001b[0m \u001b[0;34m=\u001b[0m \u001b[0mfind_clusters_and_centroids\u001b[0m\u001b[0;34m(\u001b[0m\u001b[0mnorm_training\u001b[0m\u001b[0;34m,\u001b[0m \u001b[0mpoint_labels_train\u001b[0m\u001b[0;34m,\u001b[0m \u001b[0mn_clusters_train\u001b[0m\u001b[0;34m)\u001b[0m\u001b[0;34m\u001b[0m\u001b[0;34m\u001b[0m\u001b[0m\n\u001b[1;32m      6\u001b[0m     \u001b[0msomaDosQuadrados\u001b[0m\u001b[0;34m.\u001b[0m\u001b[0mappend\u001b[0m\u001b[0;34m(\u001b[0m\u001b[0mcalc_elbow\u001b[0m\u001b[0;34m(\u001b[0m\u001b[0mnorm_training\u001b[0m\u001b[0;34m,\u001b[0m \u001b[0mclusters_train\u001b[0m\u001b[0;34m,\u001b[0m \u001b[0mcentroids_train\u001b[0m\u001b[0;34m)\u001b[0m\u001b[0;34m)\u001b[0m\u001b[0;34m\u001b[0m\u001b[0;34m\u001b[0m\u001b[0m\n\u001b[0;32m----> 7\u001b[0;31m     callPlot(training,point_labels_train,\n\u001b[0m\u001b[1;32m      8\u001b[0m             'Training Clusters division applying method DBSCAN (epsilon ' +str(eps)+ ') - data from cluster.dat')\n\u001b[1;32m      9\u001b[0m   \u001b[0mplt\u001b[0m\u001b[0;34m.\u001b[0m\u001b[0mplot\u001b[0m\u001b[0;34m(\u001b[0m\u001b[0mepsilon\u001b[0m\u001b[0;34m,\u001b[0m \u001b[0msomaDosQuadrados\u001b[0m\u001b[0;34m,\u001b[0m \u001b[0;34m'x-'\u001b[0m\u001b[0;34m)\u001b[0m\u001b[0;34m\u001b[0m\u001b[0;34m\u001b[0m\u001b[0m\n",
      "\u001b[0;32m<ipython-input-7-d19ca4cfd086>\u001b[0m in \u001b[0;36mcallPlot\u001b[0;34m(train_data, pointlabel, main_title)\u001b[0m\n\u001b[1;32m      1\u001b[0m \u001b[0;32mdef\u001b[0m \u001b[0mcallPlot\u001b[0m\u001b[0;34m(\u001b[0m\u001b[0mtrain_data\u001b[0m\u001b[0;34m,\u001b[0m\u001b[0mpointlabel\u001b[0m\u001b[0;34m,\u001b[0m \u001b[0mmain_title\u001b[0m\u001b[0;34m)\u001b[0m\u001b[0;34m:\u001b[0m\u001b[0;34m\u001b[0m\u001b[0;34m\u001b[0m\u001b[0m\n\u001b[1;32m      2\u001b[0m   \u001b[0mcl\u001b[0m \u001b[0;34m=\u001b[0m \u001b[0mlen\u001b[0m\u001b[0;34m(\u001b[0m\u001b[0mpointlabel\u001b[0m\u001b[0;34m)\u001b[0m\u001b[0;34m\u001b[0m\u001b[0;34m\u001b[0m\u001b[0m\n\u001b[0;32m----> 3\u001b[0;31m   \u001b[0mplotRes\u001b[0m\u001b[0;34m(\u001b[0m\u001b[0mtrain_data\u001b[0m\u001b[0;34m,\u001b[0m \u001b[0mpointlabel\u001b[0m\u001b[0;34m,\u001b[0m \u001b[0mmain_title\u001b[0m\u001b[0;34m)\u001b[0m\u001b[0;34m\u001b[0m\u001b[0;34m\u001b[0m\u001b[0m\n\u001b[0m\u001b[1;32m      4\u001b[0m   \u001b[0mplt\u001b[0m\u001b[0;34m.\u001b[0m\u001b[0mshow\u001b[0m\u001b[0;34m(\u001b[0m\u001b[0;34m)\u001b[0m\u001b[0;34m\u001b[0m\u001b[0;34m\u001b[0m\u001b[0m\n\u001b[1;32m      5\u001b[0m   \u001b[0mprint\u001b[0m\u001b[0;34m(\u001b[0m\u001b[0;34m'number of cluster found: '\u001b[0m \u001b[0;34m+\u001b[0m \u001b[0mstr\u001b[0m\u001b[0;34m(\u001b[0m\u001b[0mcl\u001b[0m\u001b[0;34m-\u001b[0m\u001b[0;36m1\u001b[0m\u001b[0;34m)\u001b[0m\u001b[0;34m)\u001b[0m\u001b[0;34m\u001b[0m\u001b[0;34m\u001b[0m\u001b[0m\n",
      "\u001b[0;32m<ipython-input-6-e058a81074d9>\u001b[0m in \u001b[0;36mplotRes\u001b[0;34m(train, point_labels, main_title)\u001b[0m\n\u001b[1;32m      8\u001b[0m   \u001b[0mtitle\u001b[0m \u001b[0;34m=\u001b[0m \u001b[0mmain_title\u001b[0m\u001b[0;34m\u001b[0m\u001b[0;34m\u001b[0m\u001b[0m\n\u001b[1;32m      9\u001b[0m   \u001b[0mplt\u001b[0m\u001b[0;34m.\u001b[0m\u001b[0mfigure\u001b[0m\u001b[0;34m(\u001b[0m\u001b[0mfigsize\u001b[0m\u001b[0;34m=\u001b[0m\u001b[0;34m(\u001b[0m\u001b[0;36m15\u001b[0m\u001b[0;34m,\u001b[0m\u001b[0;36m15\u001b[0m\u001b[0;34m)\u001b[0m\u001b[0;34m)\u001b[0m\u001b[0;34m\u001b[0m\u001b[0;34m\u001b[0m\u001b[0m\n\u001b[0;32m---> 10\u001b[0;31m   \u001b[0mplt\u001b[0m\u001b[0;34m.\u001b[0m\u001b[0mscatter\u001b[0m\u001b[0;34m(\u001b[0m\u001b[0mtrain\u001b[0m\u001b[0;34m.\u001b[0m\u001b[0miloc\u001b[0m\u001b[0;34m[\u001b[0m\u001b[0;34m:\u001b[0m\u001b[0;34m,\u001b[0m\u001b[0;36m0\u001b[0m\u001b[0;34m]\u001b[0m\u001b[0;34m,\u001b[0m\u001b[0mtrain\u001b[0m\u001b[0;34m.\u001b[0m\u001b[0miloc\u001b[0m\u001b[0;34m[\u001b[0m\u001b[0;34m:\u001b[0m\u001b[0;34m,\u001b[0m\u001b[0;36m1\u001b[0m\u001b[0;34m]\u001b[0m\u001b[0;34m,\u001b[0m\u001b[0mc\u001b[0m\u001b[0;34m=\u001b[0m\u001b[0mlabel_color\u001b[0m\u001b[0;34m,\u001b[0m\u001b[0malpha\u001b[0m\u001b[0;34m=\u001b[0m\u001b[0;36m0.3\u001b[0m\u001b[0;34m)\u001b[0m\u001b[0;34m\u001b[0m\u001b[0;34m\u001b[0m\u001b[0m\n\u001b[0m\u001b[1;32m     11\u001b[0m   \u001b[0mplt\u001b[0m\u001b[0;34m.\u001b[0m\u001b[0msuptitle\u001b[0m\u001b[0;34m(\u001b[0m\u001b[0mtitle\u001b[0m\u001b[0;34m,\u001b[0m \u001b[0mfontsize\u001b[0m\u001b[0;34m=\u001b[0m\u001b[0;36m20\u001b[0m\u001b[0;34m)\u001b[0m\u001b[0;34m\u001b[0m\u001b[0;34m\u001b[0m\u001b[0m\n\u001b[1;32m     12\u001b[0m   \u001b[0mplt\u001b[0m\u001b[0;34m.\u001b[0m\u001b[0msuptitle\u001b[0m\u001b[0;34m(\u001b[0m\u001b[0mtitle\u001b[0m\u001b[0;34m,\u001b[0m \u001b[0mfontsize\u001b[0m\u001b[0;34m=\u001b[0m\u001b[0;36m20\u001b[0m\u001b[0;34m)\u001b[0m\u001b[0;34m\u001b[0m\u001b[0;34m\u001b[0m\u001b[0m\n",
      "\u001b[0;31mAttributeError\u001b[0m: 'numpy.ndarray' object has no attribute 'iloc'"
     ]
    }
   ],
   "source": [
    "elbow(norm_training)"
   ]
  },
  {
   "cell_type": "code",
   "execution_count": 50,
   "id": "extra-soccer",
   "metadata": {},
   "outputs": [],
   "source": [
    "def predict (core_points, norm_original_data, point_labels, norm_test_data):\n",
    "    prediction_labels = [0]*len(norm_test_data)\n",
    "    # print(prediction_labels)\n",
    "    for p in range(len(norm_test_data)):\n",
    "        for cp in core_points:\n",
    "            if np.linalg.norm(norm_test_data[p,:] - norm_original_data.iloc[round(cp),:]):\n",
    "                prediction_labels[p] = point_labels[cp]\n",
    "    # prediction = [point_labels[cp]]\n",
    "    return prediction_labels"
   ]
  },
  {
   "cell_type": "code",
   "execution_count": null,
   "metadata": {},
   "outputs": [],
   "source": []
  },
  {
   "cell_type": "code",
   "execution_count": null,
   "metadata": {},
   "outputs": [],
   "source": []
  },
  {
   "cell_type": "code",
   "execution_count": null,
   "metadata": {},
   "outputs": [],
   "source": []
  },
  {
   "cell_type": "code",
   "execution_count": null,
   "metadata": {},
   "outputs": [],
   "source": []
  }
 ],
 "metadata": {
  "colab": {
   "collapsed_sections": [],
   "name": "effDBSCAN.ipynb",
   "provenance": []
  },
  "kernelspec": {
   "display_name": "Python 3",
   "language": "python",
   "name": "python3"
  },
  "language_info": {
   "codemirror_mode": {
    "name": "ipython",
    "version": 3
   },
   "file_extension": ".py",
   "mimetype": "text/x-python",
   "name": "python",
   "nbconvert_exporter": "python",
   "pygments_lexer": "ipython3",
   "version": "3.8.5"
  }
 },
 "nbformat": 4,
 "nbformat_minor": 5
}