{
 "cells": [
  {
   "cell_type": "markdown",
   "id": "naughty-journalist",
   "metadata": {},
   "source": [
    "# Projeto 2 - Supervised Learning\n",
    "\n",
    "## Random Forest Classifier & SVM/SVC\n",
    "\n",
    "*Ian Loron de Almeida - 198933*\n",
    "\n",
    "*Dorival Junior da Silva - *  \n",
    "\n",
    "**Documento escrito por Ian Loron de Almeida**\n",
    "\n",
    "Nesta parte do projeto, trabalharemos com os modelos de aprendizado supervisionado 'Random Forest Classifier' e 'SVM - Support Vector Machine'. O projeto está estruturado considerando as seguintes etapas:\n",
    "\n",
    "1- importação de todas as bibliotecas necessárias para o desenvolvimento do código;\n",
    "\n",
    "2- importação os dados do bancode dados 'load_digits()';\n",
    "\n",
    "3- tratamento de dados para visualização, através do método t-SNE;\n",
    "\n",
    "4- Para cada modelo, será procurado os melhores hiperparâmetros:\n",
    "\n",
    "4.1- Procura-se hiperparâmetros em testes com seleção de hiperparâmetros pseudo-randômicos;\n",
    "\n",
    "4.2- De acordo com os reusltados, será procurado por valores que tragam melhores resultados, em uma busca mais refinada e restrita dos intervalos dos hiperparâmetros;\n",
    "\n",
    "5- Os modelos receberão os dados de teste  para prever;\n",
    "\n",
    "6- comentários e conclusões;"
   ]
  },
  {
   "cell_type": "markdown",
   "id": "blond-wireless",
   "metadata": {},
   "source": [
    "Importando bibliotecas:"
   ]
  },
  {
   "cell_type": "code",
   "execution_count": 1,
   "id": "radical-mattress",
   "metadata": {},
   "outputs": [],
   "source": [
    "from sklearn.datasets import load_digits\n",
    "import numpy as np\n",
    "import pandas as pd \n",
    "from sklearn.ensemble import RandomForestClassifier\n",
    "from sklearn.svm import SVC\n",
    "from sklearn.pipeline import make_pipeline\n",
    "# feature scaling - necessary due to SVM\n",
    "from sklearn.preprocessing import StandardScaler\n",
    "# split data\n",
    "from sklearn.model_selection import train_test_split\n",
    "# to cv split\n",
    "from sklearn.model_selection import ShuffleSplit\n",
    "# matplot libs\n",
    "from mpl_toolkits import mplot3d\n",
    "import matplotlib.pyplot as plt \n",
    "# to classification report\n",
    "from sklearn import metrics\n",
    "# to t-SNE reduction\n",
    "from sklearn.manifold import TSNE\n",
    "# to calculate cv - to the learning curve\n",
    "from sklearn.model_selection import learning_curve\n",
    "# to get parameters from classifier methods, in order to find best hyperparameters\n",
    "from pprint import pprint\n",
    "from sklearn.model_selection import RandomizedSearchCV\n",
    "from sklearn.model_selection import GridSearchCV\n",
    "from sklearn.model_selection import cross_val_score\n",
    "from sklearn.model_selection import cross_validate"
   ]
  },
  {
   "cell_type": "markdown",
   "id": "educational-azerbaijan",
   "metadata": {},
   "source": [
    "Carregando dados dos dígitos, os separando entre dados para treino e teste (X) dos valores corretos correspondentes ao que cada tupla de dados em X significa. \n",
    "\n",
    "Além disso, faz-se a distribuicão estocática (aplicacao do t-SNE) para um plano bidimensional. Com esses dados, separa-se os dados de treino e de teste na razão 90/10."
   ]
  },
  {
   "cell_type": "code",
   "execution_count": 2,
   "id": "spectacular-slovak",
   "metadata": {},
   "outputs": [],
   "source": [
    "digits = load_digits()\n",
    "X = digits.data\n",
    "y = digits.target\n",
    "X_reduced = TSNE(n_components=2).fit_transform(X)\n",
    "X_train, X_test, y_train, y_test = train_test_split(X_reduced,y,test_size=0.10, random_state=10)"
   ]
  },
  {
   "cell_type": "markdown",
   "id": "distributed-partner",
   "metadata": {},
   "source": [
    "Aqui, define-se como os dados serao divididos durante o cross-validation. Para melhor distribuicao dos dados, optou-se pela divisao aleatória dos dados, na razao 75/25 entr dados de treinamento e dados de validacao."
   ]
  },
  {
   "cell_type": "code",
   "execution_count": 3,
   "id": "afraid-stephen",
   "metadata": {},
   "outputs": [],
   "source": [
    "ss = ShuffleSplit(n_splits=5, test_size=0.25, random_state=10)"
   ]
  },
  {
   "cell_type": "markdown",
   "id": "contemporary-egypt",
   "metadata": {},
   "source": [
    "funcao para imprimir mapa de distribuicao estocática após aplicacao do tratamento de dados t-SNE."
   ]
  },
  {
   "cell_type": "code",
   "execution_count": 5,
   "id": "asian-architecture",
   "metadata": {},
   "outputs": [],
   "source": [
    "# example of t-SNE projection 2-dimensional reduction \n",
    "# based on example from https://umap-learn.readthedocs.io/en/latest/basic_usage.html\n",
    "\n",
    "def print_2d_data(embedding, target):\n",
    "    plt.scatter(embedding[:, 0], embedding[:, 1], c=target, cmap='Spectral', s=5)\n",
    "    plt.gca().set_aspect('equal', 'datalim')\n",
    "    plt.colorbar(boundaries=np.arange(11)-0.5).set_ticks(np.arange(10))\n",
    "    plt.title('t-SNE projection of the Digits in training dataset', fontsize=24);"
   ]
  },
  {
   "cell_type": "markdown",
   "id": "atomic-vertical",
   "metadata": {},
   "source": [
    "Função para imprimir diferentes *scores*, obtidos em um cross-validation."
   ]
  },
  {
   "cell_type": "code",
   "execution_count": 4,
   "id": "figured-benchmark",
   "metadata": {},
   "outputs": [],
   "source": [
    "def print_val_scores(model, X_train, y_train, cv):\n",
    "    _,__,f1_w,f1_m,r,p=cross_validate(model, X_train, y_train, cv=cv,\n",
    "                       scoring=['f1_weighted','f1_macro','recall_weighted','precision_weighted']).items()\n",
    "    mean_f1_w = f1_w[1].mean(); sd_f1_w = f1_w[1].std()\n",
    "    mean_f1_m = f1_m[1].mean(); sd_f1_m = f1_m[1].std()\n",
    "    mean_r = r[1].mean(); sd_r = r[1].std()\n",
    "    mean_p = p[1].mean(); sd_p = p[1].std()\n",
    "    \n",
    "    print(\"Classification report for classifier {}:\\nparameters:\\n\".format(model) +\n",
    "          \"{}\\nmean: {}, std deviation: {}\\n\\n\".format(f1_w,mean_f1_w,sd_f1_w) +\n",
    "          \"{}\\nmean: {}, std deviation: {}\\n\\n\".format(f1_m,mean_f1_m,sd_f1_m) +\n",
    "          \"{}\\nmean: {}, std deviation: {}\\n\\n\".format(r,mean_r,sd_r) +\n",
    "          \"{}\\nmean: {}, std deviation: {}\\n\\n\".format(p,mean_p,sd_p))"
   ]
  },
  {
   "cell_type": "markdown",
   "id": "incorporated-command",
   "metadata": {},
   "source": [
    "Imprime-se os *scores* que uma *Random Forest* padrao do sklearn performa. Note que os valores já sao relativamente altos. Ao longo do projeto, será buscado afinar o acerto do modelo."
   ]
  },
  {
   "cell_type": "code",
   "execution_count": 18,
   "id": "atlantic-toner",
   "metadata": {},
   "outputs": [
    {
     "name": "stdout",
     "output_type": "stream",
     "text": [
      "Classification report for classifier RandomForestClassifier():\n",
      "parameters:\n",
      "('test_f1_weighted', array([0.97512345, 0.97783058, 0.9827494 , 0.99011606, 0.98272966]))\n",
      "mean: 0.9817098308223884, std deviation: 0.005122782208648969\n",
      "\n",
      "('test_f1_macro', array([0.97651864, 0.97785368, 0.98232091, 0.99012794, 0.98278093]))\n",
      "mean: 0.9819204193684948, std deviation: 0.004774553579677992\n",
      "\n",
      "('test_recall_weighted', array([0.97530864, 0.97777778, 0.98271605, 0.99012346, 0.98271605]))\n",
      "mean: 0.9817283950617284, std deviation: 0.005084261798018286\n",
      "\n",
      "('test_precision_weighted', array([0.97579196, 0.97821969, 0.98330161, 0.99022438, 0.98285907]))\n",
      "mean: 0.982079340279095, std deviation: 0.005084261798018286\n",
      "\n",
      "\n"
     ]
    }
   ],
   "source": [
    "clf_rf=RandomForestClassifier()\n",
    "print_val_scores(clf_rf, X_train,y_train,ss)"
   ]
  },
  {
   "cell_type": "markdown",
   "id": "entire-triangle",
   "metadata": {},
   "source": [
    "Função para imprimir métricas, quando posteriormente testarmos o conjunto de dados de testes."
   ]
  },
  {
   "cell_type": "code",
   "execution_count": 61,
   "id": "likely-radiation",
   "metadata": {},
   "outputs": [],
   "source": [
    "def print_metrics(clf, X, y, prediction):\n",
    "    print(f\"Classification report for classifier {clf}:\\n\"\n",
    "          f\"{metrics.classification_report(y, prediction)}\\n\")\n",
    "    disp = metrics.plot_confusion_matrix(clf, X, y)\n",
    "    disp.figure_.suptitle(\"Confusion Matrix\")"
   ]
  },
  {
   "cell_type": "markdown",
   "id": "demanding-discovery",
   "metadata": {},
   "source": [
    "Imprime distribuição de dados de teste após aplicação do t-SNE."
   ]
  },
  {
   "cell_type": "code",
   "execution_count": 6,
   "id": "massive-tomorrow",
   "metadata": {},
   "outputs": [
    {
     "data": {
      "image/png": "[encoded data removed]",
      "text/plain": [
       "<Figure size 432x288 with 2 Axes>"
      ]
     },
     "metadata": {
      "needs_background": "light"
     },
     "output_type": "display_data"
    }
   ],
   "source": [
    "# print data distribution after t-SNE reduction\n",
    "print_2d_data(X_train, y_train)"
   ]
  },
  {
   "cell_type": "markdown",
   "id": "governmental-reason",
   "metadata": {},
   "source": [
    "### Busca por melhores hiperparâmetros para a Random Forest Classifier:"
   ]
  },
  {
   "cell_type": "markdown",
   "id": "green-paint",
   "metadata": {},
   "source": [
    "Criacao do 1° grid de valores da Random Forest, para procurar pelos melhores hiperparâmetros."
   ]
  },
  {
   "cell_type": "code",
   "execution_count": 29,
   "id": "partial-vertical",
   "metadata": {},
   "outputs": [],
   "source": [
    "# Documentation:\n",
    "# https://scikit-learn.org/stable/modules/generated/sklearn.ensemble.RandomForestClassifier.html\n",
    "\n",
    "# Number of trees in random forest\n",
    "n_estimators = [int(x) for x in np.linspace(start = 100, stop = 600, num = 6)]\n",
    "# Number of features to consider at every split\n",
    "max_features = ['auto', 'sqrt', 'log2', None]\n",
    "# Maximum number of levels in tree\n",
    "max_depth = [int(x) for x in np.linspace(5, 100, num = 5)]\n",
    "max_depth.append(None)\n",
    "# Minimum number of samples required to split a node\n",
    "min_samples_split = [2, 4]\n",
    "# Minimum number of samples required at each leaf node\n",
    "min_samples_leaf = [1, 2, 4]\n",
    "# Method of selecting samples for training each tree\n",
    "bootstrap = [True, False]\n",
    "\n",
    "# Create the random grid\n",
    "random_grid_rf = {'n_estimators': n_estimators,\n",
    "               'max_features': max_features,\n",
    "               'max_depth': max_depth,\n",
    "               'min_samples_split': min_samples_split,\n",
    "               'min_samples_leaf': min_samples_leaf,\n",
    "               'bootstrap': bootstrap}\n"
   ]
  },
  {
   "cell_type": "markdown",
   "id": "toxic-rotation",
   "metadata": {},
   "source": [
    "Aplicou-se os valores do grid para a primeira busca dos hiperparâmetros. Inicialmente, aplicamos uma busca randomizada. Posteriormente, refinaremos a procura."
   ]
  },
  {
   "cell_type": "code",
   "execution_count": 30,
   "id": "wired-better",
   "metadata": {
    "scrolled": true
   },
   "outputs": [
    {
     "data": {
      "text/plain": [
       "RandomizedSearchCV(cv=ShuffleSplit(n_splits=5, random_state=10, test_size=0.25, train_size=None),\n",
       "                   estimator=RandomForestClassifier(), n_iter=100,\n",
       "                   param_distributions={'bootstrap': [True, False],\n",
       "                                        'max_depth': [5, 28, 52, 76, 100, None],\n",
       "                                        'max_features': ['auto', 'sqrt', 'log2',\n",
       "                                                         None],\n",
       "                                        'min_samples_leaf': [1, 2, 4],\n",
       "                                        'min_samples_split': [2, 4],\n",
       "                                        'n_estimators': [100, 200, 300, 400,\n",
       "                                                         500, 600]},\n",
       "                   random_state=10)"
      ]
     },
     "execution_count": 30,
     "metadata": {},
     "output_type": "execute_result"
    }
   ],
   "source": [
    "# Use the random grid to search for best hyperparameters\n",
    "\n",
    "# 1. create the base models \n",
    "clf_rf = RandomForestClassifier()\n",
    "\n",
    "# 2. Random search of parameters. Uses our shuffle selection cross validation, \n",
    "#    and search across 100 different (shuffle) combinations, and use all available cores\n",
    "rf_random = RandomizedSearchCV(estimator = clf_rf, param_distributions = random_grid_rf, \n",
    "                               n_iter = 100, cv = ss, random_state=10)\n",
    "\n",
    "# 3. Fit the random search model\n",
    "rf_random.fit(X_train, y_train)\n",
    "rf_random.best_params_"
   ]
  },
  {
   "cell_type": "markdown",
   "id": "covered-ladder",
   "metadata": {},
   "source": [
    "Melhores parametros encontrados:"
   ]
  },
  {
   "cell_type": "code",
   "execution_count": 31,
   "id": "academic-hardware",
   "metadata": {},
   "outputs": [
    {
     "data": {
      "text/plain": [
       "{'n_estimators': 300,\n",
       " 'min_samples_split': 4,\n",
       " 'min_samples_leaf': 2,\n",
       " 'max_features': 'log2',\n",
       " 'max_depth': 100,\n",
       " 'bootstrap': True}"
      ]
     },
     "execution_count": 31,
     "metadata": {},
     "output_type": "execute_result"
    }
   ],
   "source": [
    "rf_random.best_params_"
   ]
  },
  {
   "cell_type": "code",
   "execution_count": 36,
   "id": "temporal-constitution",
   "metadata": {},
   "outputs": [
    {
     "name": "stdout",
     "output_type": "stream",
     "text": [
      "Classification report for classifier RandomForestClassifier(max_depth=100, max_features='log2', min_samples_leaf=2,\n",
      "                       min_samples_split=4, n_estimators=300):\n",
      "parameters:\n",
      "('test_f1_weighted', array([0.98012565, 0.97774023, 0.98519436, 0.99011606, 0.98515179]))\n",
      "mean: 0.9836656178135537, std deviation: 0.00433117913962484\n",
      "\n",
      "('test_f1_macro', array([0.98135346, 0.9776045 , 0.98512184, 0.99012794, 0.98550266]))\n",
      "mean: 0.9839420794134466, std deviation: 0.004218008292634517\n",
      "\n",
      "('test_recall_weighted', array([0.98024691, 0.97777778, 0.98518519, 0.99012346, 0.98518519]))\n",
      "mean: 0.9837037037037037, std deviation: 0.004305085376336473\n",
      "\n",
      "('test_precision_weighted', array([0.98049979, 0.97804196, 0.98552083, 0.99022438, 0.98530045]))\n",
      "mean: 0.9839174816034773, std deviation: 0.004253530402065733\n",
      "\n",
      "\n"
     ]
    }
   ],
   "source": [
    "# Through Random Forest Classifier with the best parameters, train and predict data.\n",
    "best_random_rf=rf_random.best_estimator_ \n",
    "print_val_scores(best_random_rf, X_train, y_train, ss)"
   ]
  },
  {
   "cell_type": "markdown",
   "id": "double-junior",
   "metadata": {},
   "source": [
    "Agora que temos melhor noção de quais são parâmetros desejáveis para obter melhores resultados, podemos fazer uma busca pelos melhores hiperparâmetros de maneira mais refinada. Ao invés de usarmos o RandomizedSearchCV, usaremos o GridSearchCV, o qual fará a busca dos melhores hiperparâmetros ao comparar todos os parâmetros que passarmos.\n",
    "\n",
    "Note que os parâmetros criados no grid estao em um intervalo menor, e mais próximos dos melhores hiperparametros encontrados com o RandomizedSearchCV."
   ]
  },
  {
   "cell_type": "code",
   "execution_count": 33,
   "id": "administrative-still",
   "metadata": {},
   "outputs": [
    {
     "name": "stdout",
     "output_type": "stream",
     "text": [
      "{'bootstrap': True, 'max_depth': 80, 'max_features': 'log2', 'min_samples_leaf': 2, 'min_samples_split': 3, 'n_estimators': 250}\n"
     ]
    }
   ],
   "source": [
    "# Create the parameter grid based on the results of random search \n",
    "param_grid = {\n",
    "    'bootstrap': [True],\n",
    "    'max_depth': [80, 100, 120], # [23, 28, 33],\n",
    "    'max_features': ['log2'],\n",
    "    'min_samples_leaf': [1,2,3],\n",
    "    'min_samples_split': [3,4,5],\n",
    "    'n_estimators': [250, 300, 350] # [550, 600, 700]\n",
    "}\n",
    "\n",
    "# Instantiate the grid search model\n",
    "grid_search = GridSearchCV(estimator = clf_rf, param_grid = param_grid, cv = ss)\n",
    "grid_search.fit(X_train, y_train)\n",
    "print(grid_search.best_params_)"
   ]
  },
  {
   "cell_type": "markdown",
   "id": "automatic-treaty",
   "metadata": {},
   "source": [
    "**Obs:** Somente quando aplicamos \"fit\" é que o RandomizedSearchCV (e posteriormente, o GridSearchCV) procura os melhores parâmetros, **de acordo com a especificação de cross-validation passada**. Assim, o treinamento não é feito em todos os dados de testes, mas sim de acordo com o cros-validation. Podemos criar um modelo com estes parâmetros chamando \"best_estimator_\":  "
   ]
  },
  {
   "cell_type": "code",
   "execution_count": 37,
   "id": "tracked-recipient",
   "metadata": {},
   "outputs": [
    {
     "name": "stdout",
     "output_type": "stream",
     "text": [
      "Classification report for classifier RandomForestClassifier(max_depth=80, max_features='log2', min_samples_leaf=2,\n",
      "                       min_samples_split=3, n_estimators=250):\n",
      "parameters:\n",
      "('test_f1_weighted', array([0.9801754 , 0.9777665 , 0.98519436, 0.99011606, 0.9876292 ]))\n",
      "mean: 0.9841763054743666, std deviation: 0.0045898232909632\n",
      "\n",
      "('test_f1_macro', array([0.9813186 , 0.97769055, 0.98512184, 0.99012794, 0.98788656]))\n",
      "mean: 0.9844290970185356, std deviation: 0.004471999248252748\n",
      "\n",
      "('test_recall_weighted', array([0.98024691, 0.97777778, 0.98518519, 0.99012346, 0.98765432]))\n",
      "mean: 0.9841975308641976, std deviation: 0.0045795646891336785\n",
      "\n",
      "('test_precision_weighted', array([0.98061784, 0.97815335, 0.98552083, 0.99022438, 0.98772949]))\n",
      "mean: 0.9844491788023664, std deviation: 0.004462698307897226\n",
      "\n",
      "\n"
     ]
    }
   ],
   "source": [
    "best_grid_rf = grid_search.best_estimator_\n",
    "print_val_scores(best_grid_rf, X_train, y_train, ss)"
   ]
  },
  {
   "cell_type": "markdown",
   "id": "raised-liquid",
   "metadata": {},
   "source": [
    "Os resultados obtidos foram muito próximos dos resultados que obtivemos anteriormente com o RandomizedSearchCV, o que era esperado, visto que já tinhamos resultados muito bons. \n",
    "\n",
    "Todos os métodos de validação foram muito semelhantes e com pouca variação. Para fins de comparação, falaremos do *f1 weighted*, pois consegue avaliar não só a relação entre *recall* e *precision* como também pondera os resultados de acordo com o desbalanceamento das *labels*, o que as demais maneiras de predição de f1 não fazem:\n",
    "https://scikit-learn.org/stable/modules/generated/sklearn.metrics.f1_score.html\n",
    "\n",
    "Escolheu-se o f1 pois neste problema, consideramos que ambos *precision* e *recall* tem a mesma importância.\n",
    "\n",
    "Do método padrão do RandomForestClassifier para a primeira busca de hiperparâmetros, passamos da média de 0.981 para 0.983 \n",
    "\n",
    "\n",
    "### Busca para os melhores hiperparâmetros para SVM:\n",
    "\n",
    "Agora, faremos o mesmo processo, para o nosso segundo método, o *SVM*. Em especial, como, de acordo com as especificações do *SVM* o método *SVC* é mais adequado para nosso problema, alteraremos os hiperparâmetros apenas do *SVC - Support Vector Classification* https://scikit-learn.org/stable/modules/generated/sklearn.svm.SVC.html#.\n",
    "\n",
    "O tamanho do dataset é pequeno o suficiente para utilizá-lo com rapidez.Queríamos um método de classificação não linear para nosso experimento, a fim de comparar com a *Random Forest Clasification*."
   ]
  },
  {
   "cell_type": "markdown",
   "id": "generic-episode",
   "metadata": {},
   "source": [
    "Hiperparâmetros existentes no SVM:"
   ]
  },
  {
   "cell_type": "code",
   "execution_count": 7,
   "id": "approximate-preparation",
   "metadata": {},
   "outputs": [
    {
     "name": "stdout",
     "output_type": "stream",
     "text": [
      "{'memory': None,\n",
      " 'standardscaler': StandardScaler(),\n",
      " 'standardscaler__copy': True,\n",
      " 'standardscaler__with_mean': True,\n",
      " 'standardscaler__with_std': True,\n",
      " 'steps': [('standardscaler', StandardScaler()), ('svc', SVC())],\n",
      " 'svc': SVC(),\n",
      " 'svc__C': 1.0,\n",
      " 'svc__break_ties': False,\n",
      " 'svc__cache_size': 200,\n",
      " 'svc__class_weight': None,\n",
      " 'svc__coef0': 0.0,\n",
      " 'svc__decision_function_shape': 'ovr',\n",
      " 'svc__degree': 3,\n",
      " 'svc__gamma': 'scale',\n",
      " 'svc__kernel': 'rbf',\n",
      " 'svc__max_iter': -1,\n",
      " 'svc__probability': False,\n",
      " 'svc__random_state': None,\n",
      " 'svc__shrinking': True,\n",
      " 'svc__tol': 0.001,\n",
      " 'svc__verbose': False,\n",
      " 'verbose': False}\n",
      "None\n"
     ]
    }
   ],
   "source": [
    "clf_svm = make_pipeline(StandardScaler(), SVC())\n",
    "print(pprint(clf_svm.get_params() ))"
   ]
  },
  {
   "cell_type": "markdown",
   "id": "concerned-darkness",
   "metadata": {},
   "source": [
    "Note que a documentação da biblioteca recomenda que seja feito o dimensionamento dos dados *(feature scaling)*, uma vez que o SVM é sensiível ao dimensionamento: https://scikit-learn.org/stable/modules/svm.html#svm\n",
    "\n",
    "Por facilidade, utilizou-se o StandardScaler para tal. \n",
    "\n",
    "Note que no modelo de *Random Forest Classification*, não precisamos redimensionar, uma vez que o modelo não é sensível a diferença de escala dos dados."
   ]
  },
  {
   "cell_type": "markdown",
   "id": "interim-audio",
   "metadata": {},
   "source": [
    "*Scores* encontrados a partir dos hiperparâmetros padräo do sklearn, para o *SVM*:"
   ]
  },
  {
   "cell_type": "code",
   "execution_count": 8,
   "id": "daily-forge",
   "metadata": {},
   "outputs": [
    {
     "name": "stdout",
     "output_type": "stream",
     "text": [
      "Classification report for classifier Pipeline(steps=[('standardscaler', StandardScaler()), ('svc', SVC())]):\n",
      "parameters:\n",
      "('test_f1_weighted', array([0.9467624 , 0.96271903, 0.967715  , 0.97747453, 0.96741863]))\n",
      "mean: 0.9644179167997138, std deviation: 0.010049416218160176\n",
      "\n",
      "('test_f1_macro', array([0.94611419, 0.96260639, 0.96712135, 0.97562198, 0.96855364]))\n",
      "mean: 0.9640035090665136, std deviation: 0.009873126947841199\n",
      "\n",
      "('test_recall_weighted', array([0.94814815, 0.96296296, 0.96790123, 0.97777778, 0.96790123]))\n",
      "mean: 0.9649382716049383, std deviation: 0.009676996514698956\n",
      "\n",
      "('test_precision_weighted', array([0.95456253, 0.96519706, 0.97046227, 0.97936284, 0.96906669]))\n",
      "mean: 0.9677302769937832, std deviation: 0.008054478435889861\n",
      "\n",
      "\n"
     ]
    }
   ],
   "source": [
    "print_val_scores(clf_svm, X_train,y_train,ss)"
   ]
  },
  {
   "cell_type": "markdown",
   "id": "foreign-finger",
   "metadata": {},
   "source": [
    "Em especial, trabalharemos com os parâmetros do *SVC*. Entre os hiperparâmetros, foram escolhidos aqueles que pudessem ser aplicados a todos os tipos de *kernel*, e que tivesem maior relação com a performance do *SVM*."
   ]
  },
  {
   "cell_type": "code",
   "execution_count": 20,
   "id": "forty-directive",
   "metadata": {},
   "outputs": [
    {
     "name": "stdout",
     "output_type": "stream",
     "text": [
      "{'svc__C': [0.1,\n",
      "            11.200000000000001,\n",
      "            22.300000000000004,\n",
      "            33.400000000000006,\n",
      "            44.50000000000001,\n",
      "            55.60000000000001,\n",
      "            66.7,\n",
      "            77.80000000000001,\n",
      "            88.9,\n",
      "            100.0],\n",
      " 'svc__class_weight': ['balanced',\n",
      "                       None,\n",
      "                       {0: 1,\n",
      "                        1: 1,\n",
      "                        2: 10,\n",
      "                        3: 15,\n",
      "                        4: 1,\n",
      "                        5: 3,\n",
      "                        6: 1,\n",
      "                        7: 20,\n",
      "                        8: 200,\n",
      "                        9: 150},\n",
      "                       {0: 10,\n",
      "                        1: 20,\n",
      "                        2: 10,\n",
      "                        3: 15,\n",
      "                        4: 10,\n",
      "                        5: 13,\n",
      "                        6: 10,\n",
      "                        7: 20,\n",
      "                        8: 99,\n",
      "                        9: 75}],\n",
      " 'svc__decision_function_shape': ['ovo', 'ovr'],\n",
      " 'svc__gamma': ['scale', 'auto'],\n",
      " 'svc__kernel': ['linear', 'poly', 'rbf', 'sigmoid'],\n",
      " 'svc__shrinking': [True, False]}\n"
     ]
    }
   ],
   "source": [
    "# Documentation:\n",
    "# https://scikit-learn.org/stable/modules/generated/sklearn.svm.SVC.html\n",
    "\n",
    "# Cost regulator parameter.\n",
    "C = [float(x) for x in np.linspace(start = 0.1, stop = 100.0, num = 10).astype(float)]\n",
    "# Weights associated with classes.\n",
    "# According to t-SNE projection, we can give harder costs to classes well distributed (e.g. 0) and\n",
    "# costs for smoothier results to classes badly distributed (e.g. 1) \n",
    "class_weight=['balanced', None,{0:1,1:1,2:10,3:15,4:1,5:3,6:1,7:20,8:200,9:150},\n",
    "                               {0:10,1:20,2:10,3:15,4:10,5:13,6:10,7:20,8:99,9:75}]\n",
    "# Specifies the kernel type to be used in the algorithm.\n",
    "kernel = ['linear', 'poly', 'rbf','sigmoid']\n",
    "# Kernel coefficient for ‘rbf’, ‘poly’ and ‘sigmoid’.\n",
    "gamma = ['scale', 'auto']\n",
    "# Whether to return a one-vs-rest or one-vs-one. \n",
    "decision_function_shape = ['ovo','ovr']\n",
    "# Whether to use the shrinking heuristic.\n",
    "shrinking = [True, False]\n",
    "\n",
    "# Create the random grid\n",
    "random_grid_svm = {'svc__C': C,\n",
    "                   'svc__kernel': kernel,\n",
    "                   'svc__gamma': gamma,\n",
    "                   'svc__class_weight':class_weight,\n",
    "                   'svc__decision_function_shape': decision_function_shape,\n",
    "                   'svc__shrinking': shrinking}\n",
    "pprint(random_grid_svm)"
   ]
  },
  {
   "cell_type": "markdown",
   "id": "hungry-start",
   "metadata": {},
   "source": [
    "Escolha dos melhores hiperparâmetros dentre 100 combinações distintas e aleatórias dos hiperparâmetros criados na grid:"
   ]
  },
  {
   "cell_type": "code",
   "execution_count": 39,
   "id": "ancient-andrews",
   "metadata": {},
   "outputs": [
    {
     "data": {
      "text/plain": [
       "{'svc__shrinking': True,\n",
       " 'svc__kernel': 'rbf',\n",
       " 'svc__gamma': 'auto',\n",
       " 'svc__decision_function_shape': 'ovo',\n",
       " 'svc__class_weight': 'balanced',\n",
       " 'svc__C': 100.0}"
      ]
     },
     "execution_count": 39,
     "metadata": {},
     "output_type": "execute_result"
    }
   ],
   "source": [
    "# 1. create the base models \n",
    "clf_svm = make_pipeline(StandardScaler(), SVC())\n",
    "\n",
    "# 2. Random search of parameters. Uses our shuffle selection cross validation, \n",
    "# and search across 100 different (shuffle) combinations, and use all available cores\n",
    "svm_random = RandomizedSearchCV(estimator = clf_svm, param_distributions = random_grid_svm, \n",
    "                                n_iter = 100, cv = ss, random_state=20)\n",
    "\n",
    "# 3. Fit the random search model\n",
    "svm_random.fit(X_train, y_train)\n",
    "svm_random.best_params_"
   ]
  },
  {
   "cell_type": "code",
   "execution_count": 38,
   "id": "loose-mortgage",
   "metadata": {},
   "outputs": [
    {
     "name": "stdout",
     "output_type": "stream",
     "text": [
      "Classification report for classifier Pipeline(steps=[('standardscaler', StandardScaler()),\n",
      "                ('svc', SVC(C=100.0, shrinking=False))]):\n",
      "parameters:\n",
      "('test_f1_weighted', array([0.98760085, 0.98515545, 0.98764242, 0.99259575, 0.9876292 ]))\n",
      "mean: 0.9881247340238067, std deviation: 0.0024314300511359657\n",
      "\n",
      "('test_f1_macro', array([0.98846579, 0.98504109, 0.98746055, 0.99267357, 0.98788656]))\n",
      "mean: 0.9883055113439662, std deviation: 0.0024759469758963465\n",
      "\n",
      "('test_recall_weighted', array([0.98765432, 0.98518519, 0.98765432, 0.99259259, 0.98765432]))\n",
      "mean: 0.988148148148148, std deviation: 0.002419249128674752\n",
      "\n",
      "('test_precision_weighted', array([0.98778041, 0.98529718, 0.98801643, 0.99265432, 0.98772949]))\n",
      "mean: 0.9882955651791665, std deviation: 0.0023938597957357355\n",
      "\n",
      "\n"
     ]
    }
   ],
   "source": [
    "# Through Random Forest Classifier with the best parameters, train and predict data.\n",
    "best_random_svm=svm_random.best_estimator_ \n",
    "print_val_scores(best_random_svm, X_train, y_train, ss)"
   ]
  },
  {
   "cell_type": "markdown",
   "id": "electric-singles",
   "metadata": {},
   "source": [
    "Os resultados foram muito bons. Ainda assim, procuraremos melhorar levemente o resultado. Porém, note que o custo está muito alto. Queremos descobrir se com outra combinação de valores de hiperparâmetros encontramos um custo menor, para que não haja overfit. \n",
    "\n",
    "Além disso, procuraremos por outros valores para *class_weight*, a fim de conseguir um modelo que se adeque melhor a peculiaridade de cada classe. Note que os pesos das classes estão de acordo com os valores encontrados no plot de distribuição dos valores após a aplicação do t-SNE. Quanto mais espalhado os parâmetros, e com maior interação com outras classes, maior será o peso; e vice-versa. \n"
   ]
  },
  {
   "cell_type": "code",
   "execution_count": 41,
   "id": "minus-truck",
   "metadata": {},
   "outputs": [
    {
     "data": {
      "text/plain": [
       "{'svc__C': 25.714285714285715,\n",
       " 'svc__class_weight': {0: 100,\n",
       "  1: 200,\n",
       "  2: 100,\n",
       "  3: 150,\n",
       "  4: 10,\n",
       "  5: 130,\n",
       "  6: 100,\n",
       "  7: 200,\n",
       "  8: 990,\n",
       "  9: 750},\n",
       " 'svc__decision_function_shape': 'ovo',\n",
       " 'svc__gamma': 'scale',\n",
       " 'svc__kernel': 'rbf',\n",
       " 'svc__shrinking': True}"
      ]
     },
     "execution_count": 41,
     "metadata": {},
     "output_type": "execute_result"
    }
   ],
   "source": [
    "# Cost regulator parameter.\n",
    "C = [float(x) for x in np.linspace(start = 5.0, stop = 150.0, num = 15).astype(float)]\n",
    "\n",
    "class_weight=['balanced', None,{0:1,1:1,2:10,3:15,4:1,5:3,6:1,7:20,8:200,9:150},\n",
    "                               {0:10,1:10,2:100,3:150,4:10,5:30,6:10,7:200,8:2000,9:1500},\n",
    "                               {0:0.1,1:0.1,2:1,3:1.5,4:0.1,5:0.3,6:0.1,7:2,8:20,9:15},\n",
    "                               {0:100,1:200,2:100,3:150,4:10,5:130,6:100,7:200,8:990,9:750},\n",
    "                               {0:10,1:20,2:10,3:15,4:10,5:13,6:10,7:20,8:99,9:75}]\n",
    "# Specifies the kernel type to be used in the algorithm.\n",
    "kernel = ['rbf']\n",
    "# Kernel coefficient for ‘rbf’, ‘poly’ and ‘sigmoid’.\n",
    "gamma = ['scale', 'auto']\n",
    "# Whether to return a one-vs-rest or one-vs-one. \n",
    "decision_function_shape = ['ovo']\n",
    "# Whether to use the shrinking heuristic.\n",
    "shrinking = [True, False]\n",
    "\n",
    "# Create the random grid\n",
    "param_grid_svm = {'svc__C': C,\n",
    "                   'svc__kernel': kernel,\n",
    "                   'svc__gamma': gamma,\n",
    "                   'svc__class_weight': class_weight,\n",
    "                   'svc__decision_function_shape': decision_function_shape,\n",
    "                   'svc__shrinking': shrinking}\n",
    "\n",
    "# Instantiate the grid search model\n",
    "grid_search_svm = GridSearchCV(estimator = clf_svm, param_grid = param_grid_svm, cv = ss)\n",
    "grid_search_svm.fit(X_train, y_train)\n",
    "grid_search_svm.best_params_"
   ]
  },
  {
   "cell_type": "code",
   "execution_count": 42,
   "id": "eligible-jordan",
   "metadata": {},
   "outputs": [
    {
     "name": "stdout",
     "output_type": "stream",
     "text": [
      "Classification report for classifier Pipeline(steps=[('standardscaler', StandardScaler()),\n",
      "                ('svc',\n",
      "                 SVC(C=25.714285714285715,\n",
      "                     class_weight={0: 100, 1: 200, 2: 100, 3: 150, 4: 10,\n",
      "                                   5: 130, 6: 100, 7: 200, 8: 990, 9: 750},\n",
      "                     decision_function_shape='ovo'))]):\n",
      "parameters:\n",
      "('test_f1_weighted', array([0.98270186, 0.99012277, 0.98523727, 0.99259802, 0.990123  ]))\n",
      "mean: 0.9881565859361219, std deviation: 0.0036258901211546155\n",
      "\n",
      "('test_f1_macro', array([0.98293102, 0.99031386, 0.98458149, 0.99246354, 0.99027475]))\n",
      "mean: 0.9881129316569828, std deviation: 0.0036815399746846613\n",
      "\n",
      "('test_recall_weighted', array([0.98271605, 0.99012346, 0.98518519, 0.99259259, 0.99012346]))\n",
      "mean: 0.9881481481481481, std deviation: 0.003628873693012118\n",
      "\n",
      "('test_precision_weighted', array([0.98308871, 0.9902959 , 0.98574074, 0.9927193 , 0.9902535 ]))\n",
      "mean: 0.9884196292409987, std deviation: 0.0034918710930871687\n",
      "\n",
      "\n"
     ]
    }
   ],
   "source": [
    "best_grid_svm = grid_search_svm.best_estimator_\n",
    "print_val_scores(best_grid_svm, X_train, y_train, ss)"
   ]
  },
  {
   "cell_type": "markdown",
   "id": "skilled-juice",
   "metadata": {},
   "source": [
    "  Com os novos hiperparâmetros, encontramos hiperparâmetros que melhor se adequaram ao modelo. Ainda assim, na média dos novos testes de cross-validation, manteve-se a média dos valores dos *scores* com o RandomizedSearchCV- ainda assim resultados muito bons, e melhores que os *scores* encontrados com o SVM de hiperparâmetros padrão."
   ]
  },
  {
   "cell_type": "markdown",
   "id": "downtown-optimum",
   "metadata": {},
   "source": [
    "Por fim, utilizaremos esses hiperparâmetros para predizer os dados de teste, e descobrir se nosso modelo consegue satisfatóriamente encontrar as respostas desejadas, ou se está com overfit."
   ]
  },
  {
   "cell_type": "markdown",
   "id": "integrated-stylus",
   "metadata": {},
   "source": [
    "### Resultados dos modelos com os novos hiperparâmetros para a predição dos dados de teste:"
   ]
  },
  {
   "cell_type": "markdown",
   "id": "latest-karma",
   "metadata": {},
   "source": [
    "**Para a Random Forest Classifier:**"
   ]
  },
  {
   "cell_type": "code",
   "execution_count": 63,
   "id": "isolated-webmaster",
   "metadata": {
    "scrolled": false
   },
   "outputs": [
    {
     "name": "stdout",
     "output_type": "stream",
     "text": [
      "Classification report for classifier RandomForestClassifier(max_depth=80, max_features='log2', min_samples_leaf=2,\n",
      "                       min_samples_split=3, n_estimators=250):\n",
      "              precision    recall  f1-score   support\n",
      "\n",
      "           0       1.00      1.00      1.00        16\n",
      "           1       0.94      1.00      0.97        17\n",
      "           2       1.00      1.00      1.00        14\n",
      "           3       1.00      1.00      1.00        21\n",
      "           4       1.00      0.90      0.95        21\n",
      "           5       1.00      1.00      1.00        16\n",
      "           6       1.00      1.00      1.00        12\n",
      "           7       0.86      1.00      0.92        18\n",
      "           8       1.00      0.96      0.98        23\n",
      "           9       1.00      0.95      0.98        22\n",
      "\n",
      "    accuracy                           0.98       180\n",
      "   macro avg       0.98      0.98      0.98       180\n",
      "weighted avg       0.98      0.98      0.98       180\n",
      "\n",
      "\n"
     ]
    },
    {
     "data": {
      "image/png": "[encoded data removed]",
      "text/plain": [
       "<Figure size 432x288 with 2 Axes>"
      ]
     },
     "metadata": {
      "needs_background": "light"
     },
     "output_type": "display_data"
    }
   ],
   "source": [
    "# fit and predict data - Random Forest\n",
    "best_grid_rf.fit(X_train, y_train)\n",
    "prediction_rf = best_grid_rf.predict(X_test)\n",
    "print_metrics(best_grid_rf, X_test, y_test, prediction_rf)"
   ]
  },
  {
   "cell_type": "markdown",
   "id": "legislative-poverty",
   "metadata": {},
   "source": [
    "**Para o Support Vector Machine:**"
   ]
  },
  {
   "cell_type": "code",
   "execution_count": 64,
   "id": "mysterious-small",
   "metadata": {},
   "outputs": [
    {
     "name": "stdout",
     "output_type": "stream",
     "text": [
      "Classification report for classifier Pipeline(steps=[('standardscaler', StandardScaler()),\n",
      "                ('svc',\n",
      "                 SVC(C=25.714285714285715,\n",
      "                     class_weight={0: 100, 1: 200, 2: 100, 3: 150, 4: 10,\n",
      "                                   5: 130, 6: 100, 7: 200, 8: 990, 9: 750},\n",
      "                     decision_function_shape='ovo'))]):\n",
      "              precision    recall  f1-score   support\n",
      "\n",
      "           0       1.00      1.00      1.00        16\n",
      "           1       0.94      1.00      0.97        17\n",
      "           2       1.00      1.00      1.00        14\n",
      "           3       1.00      1.00      1.00        21\n",
      "           4       0.95      1.00      0.98        21\n",
      "           5       1.00      1.00      1.00        16\n",
      "           6       1.00      1.00      1.00        12\n",
      "           7       1.00      1.00      1.00        18\n",
      "           8       1.00      0.96      0.98        23\n",
      "           9       1.00      0.95      0.98        22\n",
      "\n",
      "    accuracy                           0.99       180\n",
      "   macro avg       0.99      0.99      0.99       180\n",
      "weighted avg       0.99      0.99      0.99       180\n",
      "\n",
      "\n"
     ]
    },
    {
     "data": {
      "image/png": "[encoded data removed]",
      "text/plain": [
       "<Figure size 432x288 with 2 Axes>"
      ]
     },
     "metadata": {
      "needs_background": "light"
     },
     "output_type": "display_data"
    }
   ],
   "source": [
    "# fit and predict data to SVM\n",
    "best_grid_svm.fit(X_train, y_train)\n",
    "prediction_svm = best_grid_svm.predict(X_test)\n",
    "print_metrics(best_grid_svm, X_test, y_test, prediction_svm)"
   ]
  },
  {
   "cell_type": "markdown",
   "id": "regular-sydney",
   "metadata": {},
   "source": [
    "Como podemos ver, os resultados foram bastante expressivos. Ambos os modelos conseguiram prever com muita precisão e exatidão os valores. Em especial, para a *Random Forest*, a precisão da classe \"7\" foi particularmente abaixo da média. Ainda assim, obteve alto recall. \n",
    "\n",
    "No caso da SVM, como escolhemos o custo de cada classe individualmente, os valores de precisão e de exatidão foram muito próximos, e muito altos. Os resultados foram surpreendentes."
   ]
  },
  {
   "cell_type": "markdown",
   "id": "parallel-distributor",
   "metadata": {},
   "source": [
    "### **Comentários Finais**\n",
    "\n",
    "Ambos os modelos de classificação tiveram resultados muito significativos. \n",
    "\n",
    "Entre as vantagens do Random Forest Classification em relação do SVC, ficou evidente que não é necessário o dimensionamento dos dados. \n",
    "\n",
    "Entre as vantagens do SVC em relação ao Random Forest Classifier, destaca-se - para os hiperparâmetros utilizados - maior acurácia e menor desvio padrão entre os testes. Isto é, o modelo foi mais flexível para predizer novas amostras; e os resultados foram mais consistentes (com menor variação de erro) e acertivos. Além disso, notou-se que o modelo se comportou com velocidade relativamente maior, mesmo com aproximadamente a mesma quantidade hiperparâmetros sendo testados nos grids, em relação à Random Forest."
   ]
  }
 ],
 "metadata": {
  "kernelspec": {
   "display_name": "Python 3",
   "language": "python",
   "name": "python3"
  },
  "language_info": {
   "codemirror_mode": {
    "name": "ipython",
    "version": 3
   },
   "file_extension": ".py",
   "mimetype": "text/x-python",
   "name": "python",
   "nbconvert_exporter": "python",
   "pygments_lexer": "ipython3",
   "version": "3.8.5"
  }
 },
 "nbformat": 4,
 "nbformat_minor": 5
}
